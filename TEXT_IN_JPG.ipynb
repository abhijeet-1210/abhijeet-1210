{
 "cells": [
  {
   "cell_type": "code",
   "execution_count": 2,
   "id": "ee1763e0",
   "metadata": {},
   "outputs": [
    {
     "name": "stdout",
     "output_type": "stream",
     "text": [
      "Requirement already satisfied: pytesseract in c:\\users\\asudhakar\\appdata\\local\\programs\\python\\python38\\lib\\site-packages (0.3.9)\n",
      "Requirement already satisfied: packaging>=21.3 in c:\\users\\asudhakar\\appdata\\local\\programs\\python\\python38\\lib\\site-packages (from pytesseract) (21.3)\n",
      "Requirement already satisfied: Pillow>=8.0.0 in c:\\users\\asudhakar\\appdata\\local\\programs\\python\\python38\\lib\\site-packages (from pytesseract) (9.1.1)\n",
      "Requirement already satisfied: pyparsing!=3.0.5,>=2.0.2 in c:\\users\\asudhakar\\appdata\\local\\programs\\python\\python38\\lib\\site-packages (from packaging>=21.3->pytesseract) (3.0.7)\n",
      "Note: you may need to restart the kernel to use updated packages.\n"
     ]
    },
    {
     "name": "stderr",
     "output_type": "stream",
     "text": [
      "WARNING: Ignoring invalid distribution -illow (c:\\users\\asudhakar\\appdata\\local\\programs\\python\\python38\\lib\\site-packages)\n",
      "WARNING: Ignoring invalid distribution -illow (c:\\users\\asudhakar\\appdata\\local\\programs\\python\\python38\\lib\\site-packages)\n",
      "WARNING: Ignoring invalid distribution -illow (c:\\users\\asudhakar\\appdata\\local\\programs\\python\\python38\\lib\\site-packages)\n",
      "WARNING: Ignoring invalid distribution -illow (c:\\users\\asudhakar\\appdata\\local\\programs\\python\\python38\\lib\\site-packages)\n",
      "WARNING: Ignoring invalid distribution -illow (c:\\users\\asudhakar\\appdata\\local\\programs\\python\\python38\\lib\\site-packages)\n",
      "WARNING: Ignoring invalid distribution -illow (c:\\users\\asudhakar\\appdata\\local\\programs\\python\\python38\\lib\\site-packages)\n",
      "WARNING: You are using pip version 21.1.1; however, version 22.1.2 is available.\n",
      "You should consider upgrading via the 'c:\\users\\asudhakar\\appdata\\local\\programs\\python\\python38\\python.exe -m pip install --upgrade pip' command.\n"
     ]
    }
   ],
   "source": [
    "pip install pytesseract"
   ]
  },
  {
   "cell_type": "code",
   "execution_count": 3,
   "id": "dd747f31",
   "metadata": {},
   "outputs": [],
   "source": [
    "import pytesseract"
   ]
  },
  {
   "cell_type": "code",
   "execution_count": 11,
   "id": "d8755d73",
   "metadata": {},
   "outputs": [
    {
     "name": "stdout",
     "output_type": "stream",
     "text": [
      "Note: you may need to restart the kernel to use updated packages.Requirement already satisfied: Image in c:\\users\\asudhakar\\appdata\\local\\programs\\python\\python38\\lib\\site-packages (1.5.33)\n",
      "Requirement already satisfied: six in c:\\users\\asudhakar\\appdata\\local\\programs\\python\\python38\\lib\\site-packages (from Image) (1.12.0)\n",
      "Requirement already satisfied: pillow in c:\\users\\asudhakar\\appdata\\local\\programs\\python\\python38\\lib\\site-packages (from Image) (9.1.1)\n",
      "Requirement already satisfied: django in c:\\users\\asudhakar\\appdata\\local\\programs\\python\\python38\\lib\\site-packages (from Image) (4.0.5)\n",
      "Requirement already satisfied: sqlparse>=0.2.2 in c:\\users\\asudhakar\\appdata\\local\\programs\\python\\python38\\lib\\site-packages (from django->Image) (0.4.2)\n",
      "Requirement already satisfied: tzdata in c:\\users\\asudhakar\\appdata\\local\\programs\\python\\python38\\lib\\site-packages (from django->Image) (2022.1)\n",
      "Requirement already satisfied: asgiref<4,>=3.4.1 in c:\\users\\asudhakar\\appdata\\local\\programs\\python\\python38\\lib\\site-packages (from django->Image) (3.5.2)\n",
      "Requirement already satisfied: backports.zoneinfo in c:\\users\\asudhakar\\appdata\\local\\programs\\python\\python38\\lib\\site-packages (from django->Image) (0.2.1)\n",
      "\n"
     ]
    },
    {
     "name": "stderr",
     "output_type": "stream",
     "text": [
      "WARNING: Ignoring invalid distribution -illow (c:\\users\\asudhakar\\appdata\\local\\programs\\python\\python38\\lib\\site-packages)\n",
      "WARNING: Ignoring invalid distribution -illow (c:\\users\\asudhakar\\appdata\\local\\programs\\python\\python38\\lib\\site-packages)\n",
      "WARNING: Ignoring invalid distribution -illow (c:\\users\\asudhakar\\appdata\\local\\programs\\python\\python38\\lib\\site-packages)\n",
      "WARNING: Ignoring invalid distribution -illow (c:\\users\\asudhakar\\appdata\\local\\programs\\python\\python38\\lib\\site-packages)\n",
      "WARNING: Ignoring invalid distribution -illow (c:\\users\\asudhakar\\appdata\\local\\programs\\python\\python38\\lib\\site-packages)\n",
      "WARNING: Ignoring invalid distribution -illow (c:\\users\\asudhakar\\appdata\\local\\programs\\python\\python38\\lib\\site-packages)\n",
      "WARNING: You are using pip version 21.1.1; however, version 22.1.2 is available.\n",
      "You should consider upgrading via the 'c:\\users\\asudhakar\\appdata\\local\\programs\\python\\python38\\python.exe -m pip install --upgrade pip' command.\n"
     ]
    }
   ],
   "source": [
    "pip install Image"
   ]
  },
  {
   "cell_type": "code",
   "execution_count": null,
   "id": "f70d2b9c",
   "metadata": {},
   "outputs": [],
   "source": []
  },
  {
   "cell_type": "code",
   "execution_count": 17,
   "id": "4cdf905c",
   "metadata": {},
   "outputs": [],
   "source": [
    "pytesseract.pytesseract.tesseract_cmd = r'C:\\Program Files\\Tesseract-OCR\\tesseract'"
   ]
  },
  {
   "cell_type": "code",
   "execution_count": 18,
   "id": "72b7e0ce",
   "metadata": {},
   "outputs": [
    {
     "name": "stdout",
     "output_type": "stream",
     "text": [
      "‘Acc: 0545234234325V\n",
      "\n",
      "2018 Oct 23\n",
      "\n",
      "Img Tm: 14:23:53\n",
      "%\n",
      "\n",
      "Name: John Stiles\n",
      "\n",
      "\n"
     ]
    }
   ],
   "source": [
    "print(pytesseract.image_to_string(r'C://Users/ASudhakar/Downloads/deidentify-medical-2.jpg'))"
   ]
  },
  {
   "cell_type": "code",
   "execution_count": null,
   "id": "42fca32e",
   "metadata": {},
   "outputs": [],
   "source": []
  }
 ],
 "metadata": {
  "kernelspec": {
   "display_name": "Python 3 (ipykernel)",
   "language": "python",
   "name": "python3"
  },
  "language_info": {
   "codemirror_mode": {
    "name": "ipython",
    "version": 3
   },
   "file_extension": ".py",
   "mimetype": "text/x-python",
   "name": "python",
   "nbconvert_exporter": "python",
   "pygments_lexer": "ipython3",
   "version": "3.8.10"
  }
 },
 "nbformat": 4,
 "nbformat_minor": 5
}
