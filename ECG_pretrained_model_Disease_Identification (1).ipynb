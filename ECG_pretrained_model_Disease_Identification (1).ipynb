{
 "cells": [
  {
   "cell_type": "code",
   "execution_count": 1,
   "id": "19cf6096",
   "metadata": {},
   "outputs": [],
   "source": [
    "import pandas as pd\n",
    "import numpy as np\n",
    "from tensorflow import keras\n",
    "from keras import layers\n",
    "from keras.layers import Input, Dense, Dropout, Activation, BatchNormalization, Add\n",
    "from keras.layers import Conv1D, GlobalAveragePooling1D, MaxPool1D, ZeroPadding1D, LSTM, Bidirectional, Flatten, GlobalAveragePooling2D\n",
    "from keras.models import Sequential, Model\n",
    "from keras.layers.merge import concatenate\n",
    "from scipy.io import loadmat"
   ]
  },
  {
   "cell_type": "code",
   "execution_count": 2,
   "id": "e05956d0",
   "metadata": {},
   "outputs": [],
   "source": [
    "SNOMED_scored=pd.read_csv(\"C://Abhijeet_Repo/PhysioNet-CinC-Challenge2020-TeamUIO-main/PhysioNet-CinC-Challenge2020-TeamUIO-main/Data/SNOMED_mappings_scored.csv\", sep=\";\")\n",
    "SNOMED_unscored=pd.read_csv(\"C://Abhijeet_Repo/PhysioNet-CinC-Challenge2020-TeamUIO-main/PhysioNet-CinC-Challenge2020-TeamUIO-main/Data/SNOMED_mappings_unscored.csv\", sep=\";\")"
   ]
  },
  {
   "cell_type": "code",
   "execution_count": 3,
   "id": "0e3ff71e",
   "metadata": {},
   "outputs": [],
   "source": [
    "snomed_class_names=[\"Pacing Rhythm\", \"Prolonged QT Interval\",\"Atrial Fibrillation\",\"Atrial Flutter\",\n",
    "                 \"Left Bundle Branch Block\",\"Q Wave Abnormal\",\"T Wave Abnormal\",\"Prolonged PR Interval\",\"Ventricular Premature Beats\",\n",
    "\"Low QRS Voltages\",\"1st Degree AV Block\",\"Premature Atrial Contraction\",\"Left Axis Deviation\",\n",
    "\"Sinus Bradycardia\",\"Bradycardia\",\"Sinus Rhythm\",\"Sinus Tachycardia\",\"Premature Ventricular Contractions\",\n",
    "\"Sinus Arrhythmia\",\"Left Anterior Fascicular Block\",\"Right Axis Deviation\",\"Right Bundle Branch Block\",\"T Wave Inversion\",\n",
    "\"Supraventricular Premature Beats\",\"Nonspecific Intraventricular Conduction Disorder\",\"Incomplete Right Bundle Branch Block\",\n",
    "\"Complete Right Bundle Branch Block\"]"
   ]
  },
  {
   "cell_type": "code",
   "execution_count": 141,
   "id": "e65d9eb1",
   "metadata": {},
   "outputs": [],
   "source": [
    "header_file=\"C://Abhijeet_Repo/Data/A/raw/Training_WFDB/A0003.hea\"\n",
    "mat_file=\"C://Abhijeet_Repo/Data/A/raw/Training_WFDB/A0003.mat\""
   ]
  },
  {
   "cell_type": "code",
   "execution_count": 142,
   "id": "34240f80",
   "metadata": {},
   "outputs": [],
   "source": [
    "import pandas as pd\n",
    "with open(header_file, 'r') as the_file:\n",
    "    all_data = [line.strip() for line in the_file.readlines()]\n",
    "    data = all_data[8:]\n",
    "snomed_number=int(data[7][5:14])\n",
    "value_unscored=SNOMED_unscored[\"Dx\"][SNOMED_unscored[\"SNOMED CT Code\"]==snomed_number].values\n",
    "value_scored=SNOMED_scored[\"Dx\"][SNOMED_scored[\"SNOMED CT Code\"]==snomed_number].values\n",
    "try: \n",
    "    disease_unscored=value_unscored[0]\n",
    "except:\n",
    "    disease_unscored=\"\"\n",
    "\n",
    "try: \n",
    "    disease_scored=value_scored[0]\n",
    "except:\n",
    "    disease_scored=\"\""
   ]
  },
  {
   "cell_type": "code",
   "execution_count": 143,
   "id": "6193db87",
   "metadata": {},
   "outputs": [],
   "source": [
    "lenet_5_model=Sequential()\n",
    "\n",
    "lenet_5_model.add(Conv1D(filters=64, kernel_size=5, padding='same', input_shape=(5000,12)))\n",
    "#lenet_5_model.add(MaxPool1D(pool_size=2, strides=2, padding='same'))\n",
    "lenet_5_model.add(BatchNormalization())\n",
    "lenet_5_model.add(Activation('relu'))\n",
    "\n",
    "lenet_5_model.add(Conv1D(filters=64, kernel_size=3, padding='same',))\n",
    "#lenet_5_model.add(MaxPool1D(pool_size=2, strides=2, padding='same'))\n",
    "lenet_5_model.add(BatchNormalization())\n",
    "lenet_5_model.add(Activation('relu'))\n",
    "\n",
    "lenet_5_model.add(GlobalAveragePooling1D())\n",
    "\n",
    "lenet_5_model.add(Dense(64, activation='relu'))\n",
    "\n",
    "lenet_5_model.add(Dense(64, activation='relu'))\n",
    "\n",
    "lenet_5_model.add(Dense(27, activation = 'softmax'))"
   ]
  },
  {
   "cell_type": "code",
   "execution_count": 144,
   "id": "97408bb8",
   "metadata": {},
   "outputs": [],
   "source": [
    "lenet_5_model.load_weights(\"C://Users/ASudhakar/Downloads/lenet5_model_weights.best.hdf5\")"
   ]
  },
  {
   "cell_type": "code",
   "execution_count": 145,
   "id": "371f5fb1",
   "metadata": {},
   "outputs": [
    {
     "name": "stdout",
     "output_type": "stream",
     "text": [
      "Predicted: Atrial Fibrillation\n",
      "Actual: atrial fibrillation\n"
     ]
    }
   ],
   "source": [
    "yhat=lenet_5_model.predict(x=loadmat(mat_file)['val'].reshape(1,loadmat(mat_file)['val'].shape[1],loadmat(mat_file)['val'].shape[0]))\n",
    "print(\"Predicted: \"+snomed_class_names[np.argmax(yhat)])\n",
    "if disease_unscored!=\"\":\n",
    "    print(\"Actual: \"+disease_unscored)\n",
    "else:\n",
    "    print(\"Actual: \"+disease_scored)"
   ]
  },
  {
   "cell_type": "code",
   "execution_count": 146,
   "id": "de5baefc",
   "metadata": {},
   "outputs": [],
   "source": [
    "lstm_model = Sequential()\n",
    "lstm_model.add(LSTM(64, return_sequences=True, input_shape=(5000,12)))\n",
    "lstm_model.add(LSTM(64, return_sequences=True))\n",
    "lstm_model.add(LSTM(32, return_sequences=True))\n",
    "lstm_model.add(GlobalAveragePooling1D())\n",
    "lstm_model.add(Dense(32, activation = 'relu'))\n",
    "lstm_model.add(Dense(27, activation = 'softmax'))"
   ]
  },
  {
   "cell_type": "code",
   "execution_count": 147,
   "id": "512e3db4",
   "metadata": {},
   "outputs": [],
   "source": [
    "lstm_model.load_weights(\"C://Users/ASudhakar/Downloads/lstm_model_weights.best.hdf5\")"
   ]
  },
  {
   "cell_type": "code",
   "execution_count": 148,
   "id": "c6d77058",
   "metadata": {},
   "outputs": [
    {
     "name": "stdout",
     "output_type": "stream",
     "text": [
      "Predicted: Sinus Tachycardia\n",
      "Actual: atrial fibrillation\n"
     ]
    }
   ],
   "source": [
    "yhat=lstm_model.predict(x=loadmat(mat_file)['val'].reshape(1,loadmat(mat_file)['val'].shape[1],loadmat(mat_file)['val'].shape[0]))\n",
    "print(\"Predicted: \"+snomed_class_names[np.argmax(yhat)])\n",
    "if disease_unscored!=\"\":\n",
    "    print(\"Actual: \"+disease_unscored)\n",
    "else:\n",
    "    print(\"Actual: \"+disease_scored)"
   ]
  },
  {
   "cell_type": "code",
   "execution_count": 149,
   "id": "c2f0b44b",
   "metadata": {},
   "outputs": [],
   "source": [
    "def identity_block(X, f, filters):\n",
    "    F1, F2, F3 = filters\n",
    "    \n",
    "    X_shortcut = X\n",
    "    \n",
    "    X = Conv1D(filters = F1, kernel_size = 1, activation='relu', strides = 1, padding = 'valid')(X)\n",
    "    X = BatchNormalization()(X)\n",
    "    \n",
    "    X = Conv1D(filters = F2, kernel_size = f, activation='relu', strides = 1, padding = 'same')(X)\n",
    "    X = BatchNormalization()(X)\n",
    "\n",
    "    X = Conv1D(filters = F3, kernel_size = 1, activation='relu', strides = 1, padding = 'valid')(X)\n",
    "    X = BatchNormalization()(X)\n",
    "\n",
    "    X = Add()([X,X_shortcut])\n",
    "    X = Activation('relu')(X)\n",
    "    \n",
    "    return X\n",
    "\n",
    "def convolutional_block(X, f, filters, s = 2):\n",
    "    F1, F2, F3 = filters\n",
    "    \n",
    "    X_shortcut = X\n",
    "\n",
    "    X = Conv1D(F1, 1, activation='relu', strides = s)(X)\n",
    "    X = BatchNormalization()(X)\n",
    "    \n",
    "    X = Conv1D(F2, f, activation='relu', strides = 1, padding = 'same')(X)\n",
    "    X = BatchNormalization()(X)\n",
    "\n",
    "    X = Conv1D(F3, 1, strides = 1, activation='relu')(X)\n",
    "    X = BatchNormalization()(X)\n",
    "\n",
    "    X_shortcut = Conv1D(F3, 1, strides = s)(X_shortcut)\n",
    "    X_shortcut = BatchNormalization()(X_shortcut)\n",
    "    \n",
    "    X = Add()([X,X_shortcut])\n",
    "    X = Activation('relu')(X)\n",
    "    \n",
    "    return X\n",
    "\n",
    "def ResNet50(input_shape):\n",
    "    \n",
    "    X_input = Input(input_shape)\n",
    "\n",
    "    X = ZeroPadding1D(3)(X_input)\n",
    "    \n",
    "    X = Conv1D(64, 7, strides = 2, activation='relu')(X)\n",
    "    X = BatchNormalization()(X)\n",
    "    X = MaxPool1D(pool_size=2, strides=2, padding='same')(X)\n",
    "\n",
    "    X = convolutional_block(X, f = 3, filters = [64, 64, 256], s = 1)\n",
    "    X = identity_block(X, 3, [64, 64, 256])\n",
    "    X = identity_block(X, 3, [64, 64, 256])\n",
    "\n",
    "    X = convolutional_block(X, f = 3, filters = [128,128,512], s = 2)\n",
    "    X = identity_block(X, 3, [128,128,512])\n",
    "    X = identity_block(X, 3, [128,128,512])\n",
    "    X = identity_block(X, 3, [128,128,512])\n",
    "\n",
    "    X = convolutional_block(X, f = 3, filters = [256, 256, 1024], s = 2)\n",
    "    X = identity_block(X, 3, [256, 256, 1024])\n",
    "    X = identity_block(X, 3, [256, 256, 1024])\n",
    "    X = identity_block(X, 3, [256, 256, 1024])\n",
    "    X = identity_block(X, 3, [256, 256, 1024])\n",
    "    X = identity_block(X, 3, [256, 256, 1024])\n",
    "\n",
    "    X = convolutional_block(X, f = 3, filters = [512, 512, 2048], s = 2)\n",
    "    X = identity_block(X, 3, [512, 512, 2048])\n",
    "    X = identity_block(X, 3, [512, 512, 2048])\n",
    "\n",
    "    X = MaxPool1D(pool_size=2, strides=2, padding='same')(X)\n",
    "    \n",
    "    X = GlobalAveragePooling1D()(X)\n",
    "    X = Dense(27,activation='softmax')(X)\n",
    "    \n",
    "    model = Model(inputs = X_input, outputs = X, name='ResNet50')\n",
    "\n",
    "    return model"
   ]
  },
  {
   "cell_type": "code",
   "execution_count": 150,
   "id": "c70a7e33",
   "metadata": {},
   "outputs": [],
   "source": [
    "resNet50_model = ResNet50(input_shape = (5000,12))"
   ]
  },
  {
   "cell_type": "code",
   "execution_count": 151,
   "id": "625cbb9d",
   "metadata": {},
   "outputs": [],
   "source": [
    "resNet50_model.load_weights(\"C://Users/ASudhakar/Downloads/resnet50_model_weights.best.hdf5\")"
   ]
  },
  {
   "cell_type": "code",
   "execution_count": 152,
   "id": "7c975a75",
   "metadata": {},
   "outputs": [
    {
     "name": "stdout",
     "output_type": "stream",
     "text": [
      "Predicted: Sinus Tachycardia\n",
      "Actual: atrial fibrillation\n"
     ]
    }
   ],
   "source": [
    "yhat=resNet50_model.predict(x=loadmat(mat_file)['val'].reshape(1,loadmat(mat_file)['val'].shape[1],loadmat(mat_file)['val'].shape[0]))\n",
    "print(\"Predicted: \"+snomed_class_names[np.argmax(yhat)])\n",
    "if disease_unscored!=\"\":\n",
    "    print(\"Actual: \"+disease_unscored)\n",
    "else:\n",
    "    print(\"Actual: \"+disease_scored)"
   ]
  },
  {
   "cell_type": "code",
   "execution_count": 153,
   "id": "4aab3a7e",
   "metadata": {},
   "outputs": [],
   "source": [
    "vgg_16_model=Sequential()\n",
    "\n",
    "vgg_16_model.add(Conv1D(filters=64, kernel_size=3, padding='same', activation='relu', input_shape=(5000,12)))\n",
    "vgg_16_model.add(Conv1D(filters=64, kernel_size=3, padding='same', activation='relu'))\n",
    "vgg_16_model.add(MaxPool1D(pool_size=2, strides=2, padding='same'))\n",
    "vgg_16_model.add(BatchNormalization())\n",
    "\n",
    "vgg_16_model.add(Conv1D(filters=128, kernel_size=3, activation='relu', padding='same'))\n",
    "vgg_16_model.add(Conv1D(filters=128, kernel_size=3, activation='relu', padding='same'))\n",
    "vgg_16_model.add(MaxPool1D(pool_size=2, strides=2, padding='same'))\n",
    "vgg_16_model.add(BatchNormalization())\n",
    "\n",
    "vgg_16_model.add(Conv1D(filters=256, kernel_size=3, activation='relu', padding='same'))\n",
    "vgg_16_model.add(Conv1D(filters=256, kernel_size=3, activation='relu', padding='same'))\n",
    "vgg_16_model.add(Conv1D(filters=256, kernel_size=3, activation='relu', padding='same'))\n",
    "vgg_16_model.add(MaxPool1D(pool_size=2, strides=2, padding='same'))\n",
    "vgg_16_model.add(BatchNormalization())\n",
    "\n",
    "vgg_16_model.add(Conv1D(filters=512, kernel_size=3, activation='relu', padding='same'))\n",
    "vgg_16_model.add(Conv1D(filters=512, kernel_size=3, activation='relu', padding='same'))\n",
    "vgg_16_model.add(Conv1D(filters=512, kernel_size=3, activation='relu', padding='same'))\n",
    "vgg_16_model.add(MaxPool1D(pool_size=2, strides=2, padding='same'))\n",
    "vgg_16_model.add(BatchNormalization())\n",
    "\n",
    "vgg_16_model.add(Conv1D(filters=512, kernel_size=3, activation='relu', padding='same'))\n",
    "vgg_16_model.add(Conv1D(filters=512, kernel_size=1, activation='relu', padding='same'))\n",
    "vgg_16_model.add(Conv1D(filters=512, kernel_size=1, activation='relu', padding='same'))\n",
    "vgg_16_model.add(MaxPool1D(pool_size=2, strides=2, padding='same'))\n",
    "vgg_16_model.add(BatchNormalization())\n",
    "\n",
    "vgg_16_model.add(GlobalAveragePooling1D())\n",
    "vgg_16_model.add(Dense(256, activation='relu'))\n",
    "vgg_16_model.add(Dropout(0.25))\n",
    "vgg_16_model.add(Dense(128, activation='relu'))\n",
    "vgg_16_model.add(Dropout(0.25))\n",
    "vgg_16_model.add(Dense(27, activation='softmax'))"
   ]
  },
  {
   "cell_type": "code",
   "execution_count": 154,
   "id": "0c456b32",
   "metadata": {},
   "outputs": [],
   "source": [
    "vgg_16_model.load_weights(\"C://Users/ASudhakar/Downloads/vgg16_model_weights.best.hdf5\")"
   ]
  },
  {
   "cell_type": "code",
   "execution_count": 155,
   "id": "82a1e009",
   "metadata": {},
   "outputs": [
    {
     "name": "stdout",
     "output_type": "stream",
     "text": [
      "Predicted: Atrial Fibrillation\n",
      "Actual: atrial fibrillation\n"
     ]
    }
   ],
   "source": [
    "yhat=vgg_16_model.predict(x=loadmat(mat_file)['val'].reshape(1,loadmat(mat_file)['val'].shape[1],loadmat(mat_file)['val'].shape[0]))\n",
    "print(\"Predicted: \"+snomed_class_names[np.argmax(yhat)])\n",
    "if disease_unscored!=\"\":\n",
    "    print(\"Actual: \"+disease_unscored)\n",
    "else:\n",
    "    print(\"Actual: \"+disease_scored)"
   ]
  },
  {
   "cell_type": "code",
   "execution_count": null,
   "id": "14de754d",
   "metadata": {},
   "outputs": [],
   "source": []
  }
 ],
 "metadata": {
  "kernelspec": {
   "display_name": "Python 3 (ipykernel)",
   "language": "python",
   "name": "python3"
  },
  "language_info": {
   "codemirror_mode": {
    "name": "ipython",
    "version": 3
   },
   "file_extension": ".py",
   "mimetype": "text/x-python",
   "name": "python",
   "nbconvert_exporter": "python",
   "pygments_lexer": "ipython3",
   "version": "3.8.10"
  }
 },
 "nbformat": 4,
 "nbformat_minor": 5
}
